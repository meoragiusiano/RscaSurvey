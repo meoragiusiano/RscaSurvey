{
 "cells": [
  {
   "cell_type": "code",
   "execution_count": 1,
   "id": "6133eddc",
   "metadata": {},
   "outputs": [],
   "source": [
    "import json\n",
    "from pymongo import MongoClient\n",
    "import os\n",
    "import bson\n",
    "from bson import decode_all\n",
    "from bson.json_util import dumps\n",
    "import shutil\n",
    "from dotenv import load_dotenv"
   ]
  },
  {
   "cell_type": "code",
   "execution_count": null,
   "id": "39bada44",
   "metadata": {},
   "outputs": [
    {
     "name": "stdout",
     "output_type": "stream",
     "text": [
      "\n",
      "Database: test\n",
      "   └── Collection: responses\n",
      "   └── Collection: questions\n",
      "   └── Collection: backgroundprofiles\n",
      "   └── Collection: eegrecordings\n",
      "\n",
      "Database: admin\n",
      "\n",
      "Database: local\n",
      "   └── Collection: oplog.rs\n"
     ]
    }
   ],
   "source": [
    "load_dotenv()\n",
    "mongo_uri = os.getenv(\"MONGODB_URI\")\n",
    "\n",
    "client = MongoClient(mongo_uri)\n",
    "\n",
    "for db_name in client.list_database_names():\n",
    "    db = client[db_name]\n",
    "    print(f\"\\nDatabase: {db_name}\")\n",
    "    for coll_name in db.list_collection_names():\n",
    "        print(f\"   └── Collection: {coll_name}\")\n",
    "\n",
    "db = client[\"test\"]\n",
    "\n",
    "collections = [\"backgroundprofiles\", \"eegrecordings\", \"responses\"]\n",
    "\n",
    "output_dir = './bson_files'\n",
    "os.makedirs(output_dir, exist_ok=True)"
   ]
  },
  {
   "cell_type": "code",
   "execution_count": null,
   "id": "31dce7b4",
   "metadata": {},
   "outputs": [],
   "source": [
    "for name in collections:\n",
    "    docs = list(db[name].find({})) \n",
    "\n",
    "    bson_file_path = os.path.join(output_dir, f\"{name}.bson\")\n",
    "\n",
    "    with open(bson_file_path, \"wb\") as f:\n",
    "        f.write(bson.BSON.encode({\"documents\": docs}))\n",
    "\n",
    "    print(f\"Exported {len(docs)} documents from '{name}' to '{bson_file_path}'\")"
   ]
  },
  {
   "cell_type": "code",
   "execution_count": null,
   "id": "687a6d39",
   "metadata": {},
   "outputs": [],
   "source": [
    "# === BSON To JSON Conversion ===\n",
    "\n",
    "bson_file_path_names = [\n",
    "    'backgroundprofiles.bson',\n",
    "    'eegrecordings.bson',\n",
    "    'responses.bson'\n",
    "]\n",
    "\n",
    "json_file_path_names = [\n",
    "    'backgroundprofiles.json',\n",
    "    'eegrecordings.json',\n",
    "    'responses.json'\n",
    "]\n",
    "\n",
    "for bson_file_path, json_file_path in zip(bson_file_path_names, json_file_path_names):\n",
    "    bson_full_file = os.path.join(\"./bson_files/\", bson_file_path)\n",
    "    \n",
    "    json_full_file = os.path.join(\"./json_files/\", json_file_path) \n",
    "\n",
    "    with open(bson_full_file, 'rb') as f:\n",
    "        data = decode_all(f.read())\n",
    "\n",
    "    with open(json_full_file, \"w\") as outfile:\n",
    "        outfile.write(dumps(data, indent=2))"
   ]
  },
  {
   "cell_type": "code",
   "execution_count": null,
   "id": "55daf433",
   "metadata": {},
   "outputs": [],
   "source": [
    "# === Reconciling EEG & JSON Into Respective Folders ===\n",
    "\n",
    "base_dir = './'\n",
    "eeg_data_dir = os.path.join(base_dir, 'RSCA Survey Collection Data')\n",
    "output_dir = os.path.join(base_dir, 'OrganizedRSCA')\n",
    "\n",
    "os.makedirs(output_dir, exist_ok=True)\n",
    "\n",
    "for survey_type in ['1', '2']:\n",
    "    for vignette_type in ['control', 'growth', 'fixed']:\n",
    "        vignette_path = os.path.join(output_dir, survey_type, vignette_type)\n",
    "        os.makedirs(vignette_path, exist_ok=True)\n",
    "\n",
    "        for entry in os.listdir(vignette_path):\n",
    "            full_path = os.path.join(vignette_path, entry)\n",
    "            if os.path.isdir(full_path):\n",
    "                shutil.rmtree(full_path)\n",
    "\n",
    "with open('./json_files/responses.json') as file:\n",
    "    file_contents = file.read()\n",
    "parsed_json = json.loads(file_contents)\n",
    "\n",
    "# Get the list of response documents\n",
    "doc_list = parsed_json[0]['documents']\n",
    "\n",
    "# List all EEG files from the original data folder\n",
    "eeg_file_list = [f for f in os.listdir(eeg_data_dir)]\n",
    "\n",
    "for doc in doc_list:\n",
    "    if 'surveyType' not in doc or 'vignetteType' not in doc or doc['__v'] < 10:\n",
    "        continue\n",
    "\n",
    "    session_id = doc['sessionId']\n",
    "    survey_type = str(doc['surveyType'])\n",
    "    vignette_type = doc['vignetteType']\n",
    "\n",
    "    eeg_recording_paths = [file for file in eeg_file_list if session_id in file]\n",
    "\n",
    "    dest_folder = os.path.join(output_dir, survey_type, vignette_type, session_id)\n",
    "    os.makedirs(dest_folder, exist_ok=True)\n",
    "\n",
    "    for eeg_file in eeg_recording_paths:\n",
    "        src_path = os.path.join(eeg_data_dir, eeg_file)\n",
    "        dest_path = os.path.join(dest_folder, eeg_file)\n",
    "        shutil.copy(src_path, dest_path)\n",
    "\n",
    "    json_path = os.path.join(dest_folder, f\"{session_id}.json\")\n",
    "    with open(json_path, 'w') as json_out:\n",
    "        json.dump(doc, json_out, indent=4)\n",
    "\n",
    "    print(f\"Processed: {session_id} to {dest_folder} with {len(eeg_recording_paths)} EEG files\")"
   ]
  }
 ],
 "metadata": {
  "kernelspec": {
   "display_name": ".venv",
   "language": "python",
   "name": "python3"
  },
  "language_info": {
   "codemirror_mode": {
    "name": "ipython",
    "version": 3
   },
   "file_extension": ".py",
   "mimetype": "text/x-python",
   "name": "python",
   "nbconvert_exporter": "python",
   "pygments_lexer": "ipython3",
   "version": "3.13.1"
  }
 },
 "nbformat": 4,
 "nbformat_minor": 5
}
